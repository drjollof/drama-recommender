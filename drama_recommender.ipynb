{
 "cells": [
  {
   "cell_type": "code",
   "execution_count": 1,
   "metadata": {},
   "outputs": [],
   "source": [
    "import pandas as pd \n",
    "import numpy as np\n",
    "from sklearn.feature_extraction.text import TfidfVectorizer\n",
    "from sklearn.feature_extraction.text import CountVectorizer\n",
    "import re\n",
    "from sklearn.metrics.pairwise import linear_kernel \n",
    "from sklearn.metrics.pairwise import cosine_similarity"
   ]
  },
  {
   "cell_type": "code",
   "execution_count": 2,
   "metadata": {},
   "outputs": [],
   "source": [
    "df = pd.read_csv('asian_dramas.csv')"
   ]
  },
  {
   "cell_type": "code",
   "execution_count": 3,
   "metadata": {},
   "outputs": [],
   "source": [
    "del df['Unnamed: 0']\n",
    "df['title'] = df['title'].str.strip()\n",
    "df['title'] = df['title'].str.lower()"
   ]
  },
  {
   "cell_type": "code",
   "execution_count": 4,
   "metadata": {},
   "outputs": [],
   "source": [
    "description = df['description'].to_list()\n",
    "def clean_description(text):\n",
    "    text = re.sub(r'\\n+', ' ', text)  # Replace multiple newlines with a space\n",
    "    text = re.sub(r'\\(Source:.*?\\)', '', text)  # Remove \"(Source: ...)\"\n",
    "    text = re.sub(r'\\s+', ' ', text).strip()  # Remove extra spaces  \n",
    "    text = text.split(\"~~\")[0].strip()\n",
    "    text = text.replace('Edit Translation', ' ') \n",
    "    text = text.replace('\\\"', '')\n",
    "    return text  "
   ]
  },
  {
   "cell_type": "code",
   "execution_count": 5,
   "metadata": {},
   "outputs": [],
   "source": [
    "cleaned = [clean_description(i) for i in description]\n",
    "cleaned_series = pd.Series(cleaned)\n",
    "df['description'] = cleaned_series\n",
    "df['description'] = df['description'].replace(' ', 'no description')"
   ]
  },
  {
   "cell_type": "code",
   "execution_count": 6,
   "metadata": {},
   "outputs": [],
   "source": [
    "descriptions = df['description']"
   ]
  },
  {
   "cell_type": "code",
   "execution_count": null,
   "metadata": {},
   "outputs": [],
   "source": [
    "app_df = pd.DataFrame(df['title']).join(pd.DataFrame(df['country'])).join(pd.DataFrame(df['year']))"
   ]
  },
  {
   "cell_type": "code",
   "execution_count": 62,
   "metadata": {},
   "outputs": [],
   "source": [
    "title_reversed = pd.Series(app_df['title'].index, index= app_df['title'])"
   ]
  },
  {
   "cell_type": "code",
   "execution_count": 63,
   "metadata": {},
   "outputs": [
    {
     "data": {
      "text/plain": [
       "10177"
      ]
     },
     "execution_count": 63,
     "metadata": {},
     "output_type": "execute_result"
    }
   ],
   "source": [
    "title_reversed['oasis']"
   ]
  },
  {
   "cell_type": "code",
   "execution_count": null,
   "metadata": {},
   "outputs": [],
   "source": [
    "mat = pd.DataFrame()\n"
   ]
  },
  {
   "cell_type": "markdown",
   "metadata": {},
   "source": [
    "#### RECOMMENDATION BY DESCRIPTION"
   ]
  },
  {
   "cell_type": "code",
   "execution_count": 9,
   "metadata": {},
   "outputs": [],
   "source": [
    "desc_tv = TfidfVectorizer()\n",
    "transformed_desc = desc_tv.fit_transform(descriptions) \n",
    "desc_sim = linear_kernel(transformed_desc, transformed_desc)"
   ]
  },
  {
   "cell_type": "code",
   "execution_count": 10,
   "metadata": {},
   "outputs": [],
   "source": [
    "def get_recommendation_bydesc(title, desc_sim = desc_sim):\n",
    "    idx = title_reversed[title]\n",
    "    rec_sim = list(enumerate(desc_sim[idx]))\n",
    "    rec_sort = sorted(rec_sim, key= lambda x: x[1], reverse=True)\n",
    "    top_n = rec_sort[0:10]\n",
    "    rec_indices = [x[0] for x in top_n ]\n",
    "    sim = [x[1] for x in top_n]\n",
    "    rec = pd.Series(list(df['title'].iloc[rec_indices])).to_frame()\n",
    "    country = pd.Series(list(df['country'].iloc[rec_indices])).to_frame()\n",
    "    year = pd.Series(list(df['year'].iloc[rec_indices])).to_frame()\n",
    "    sim_df = pd.Series(sim).to_frame()\n",
    "    data = pd.concat([rec, country, year, sim_df], axis= 1)\n",
    "    data.columns = ['titles', 'country' , 'year' , 'similarity']\n",
    "    return data\n",
    "\n",
    "    "
   ]
  },
  {
   "cell_type": "code",
   "execution_count": 11,
   "metadata": {},
   "outputs": [
    {
     "data": {
      "text/html": [
       "<div>\n",
       "<style scoped>\n",
       "    .dataframe tbody tr th:only-of-type {\n",
       "        vertical-align: middle;\n",
       "    }\n",
       "\n",
       "    .dataframe tbody tr th {\n",
       "        vertical-align: top;\n",
       "    }\n",
       "\n",
       "    .dataframe thead th {\n",
       "        text-align: right;\n",
       "    }\n",
       "</style>\n",
       "<table border=\"1\" class=\"dataframe\">\n",
       "  <thead>\n",
       "    <tr style=\"text-align: right;\">\n",
       "      <th></th>\n",
       "      <th>titles</th>\n",
       "      <th>country</th>\n",
       "      <th>year</th>\n",
       "      <th>similarity</th>\n",
       "    </tr>\n",
       "  </thead>\n",
       "  <tbody>\n",
       "    <tr>\n",
       "      <th>0</th>\n",
       "      <td>the glory</td>\n",
       "      <td>Korean Drama</td>\n",
       "      <td>2022</td>\n",
       "      <td>1.000000</td>\n",
       "    </tr>\n",
       "    <tr>\n",
       "      <th>1</th>\n",
       "      <td>aim high</td>\n",
       "      <td>Korean Drama</td>\n",
       "      <td>2017</td>\n",
       "      <td>0.258481</td>\n",
       "    </tr>\n",
       "    <tr>\n",
       "      <th>2</th>\n",
       "      <td>jungle fish 2</td>\n",
       "      <td>Korean Drama</td>\n",
       "      <td>2010</td>\n",
       "      <td>0.253090</td>\n",
       "    </tr>\n",
       "    <tr>\n",
       "      <th>3</th>\n",
       "      <td>kodomo keishi</td>\n",
       "      <td>Japanese Drama</td>\n",
       "      <td>2013</td>\n",
       "      <td>0.249275</td>\n",
       "    </tr>\n",
       "    <tr>\n",
       "      <th>4</th>\n",
       "      <td>ugly cake</td>\n",
       "      <td>Korean Drama</td>\n",
       "      <td>2012</td>\n",
       "      <td>0.234017</td>\n",
       "    </tr>\n",
       "    <tr>\n",
       "      <th>5</th>\n",
       "      <td>biscuit teacher and star candy</td>\n",
       "      <td>Korean Drama</td>\n",
       "      <td>2005</td>\n",
       "      <td>0.224728</td>\n",
       "    </tr>\n",
       "    <tr>\n",
       "      <th>6</th>\n",
       "      <td>himitsu no kankei - sensei wa doukyonin</td>\n",
       "      <td>Japanese Drama</td>\n",
       "      <td>2011</td>\n",
       "      <td>0.217190</td>\n",
       "    </tr>\n",
       "    <tr>\n",
       "      <th>7</th>\n",
       "      <td>boys over flowers</td>\n",
       "      <td>Korean Drama</td>\n",
       "      <td>2009</td>\n",
       "      <td>0.212546</td>\n",
       "    </tr>\n",
       "    <tr>\n",
       "      <th>8</th>\n",
       "      <td>with you</td>\n",
       "      <td>Chinese Drama</td>\n",
       "      <td>2016</td>\n",
       "      <td>0.210158</td>\n",
       "    </tr>\n",
       "    <tr>\n",
       "      <th>9</th>\n",
       "      <td>pyramid game</td>\n",
       "      <td>Korean Drama</td>\n",
       "      <td>2024</td>\n",
       "      <td>0.209708</td>\n",
       "    </tr>\n",
       "  </tbody>\n",
       "</table>\n",
       "</div>"
      ],
      "text/plain": [
       "                                    titles         country  year  similarity\n",
       "0                                the glory    Korean Drama  2022    1.000000\n",
       "1                                 aim high    Korean Drama  2017    0.258481\n",
       "2                            jungle fish 2    Korean Drama  2010    0.253090\n",
       "3                            kodomo keishi  Japanese Drama  2013    0.249275\n",
       "4                                ugly cake    Korean Drama  2012    0.234017\n",
       "5           biscuit teacher and star candy    Korean Drama  2005    0.224728\n",
       "6  himitsu no kankei - sensei wa doukyonin  Japanese Drama  2011    0.217190\n",
       "7                        boys over flowers    Korean Drama  2009    0.212546\n",
       "8                                 with you   Chinese Drama  2016    0.210158\n",
       "9                             pyramid game    Korean Drama  2024    0.209708"
      ]
     },
     "execution_count": 11,
     "metadata": {},
     "output_type": "execute_result"
    }
   ],
   "source": [
    "get_recommendation_bydesc('the glory')"
   ]
  },
  {
   "cell_type": "markdown",
   "metadata": {},
   "source": [
    "#### RECOMMENDATION BY TAGS"
   ]
  },
  {
   "cell_type": "code",
   "execution_count": 12,
   "metadata": {},
   "outputs": [],
   "source": [
    "tags = df['tags']\n",
    "tags = tags.fillna('no tag')\n",
    "tags = tags.str.strip()\n",
    "tags = tags.str.lower()\n",
    "tags = tags.str.replace(' ', '')\n",
    "\n"
   ]
  },
  {
   "cell_type": "code",
   "execution_count": 13,
   "metadata": {},
   "outputs": [],
   "source": [
    "tag_cv = CountVectorizer()\n",
    "tag_transformed = tag_cv.fit_transform(tags)\n",
    "tag_sim = cosine_similarity(tag_transformed, tag_transformed)"
   ]
  },
  {
   "cell_type": "code",
   "execution_count": 14,
   "metadata": {},
   "outputs": [],
   "source": [
    "def get_recommendation_bytags(title, tag_sim = tag_sim):\n",
    "    idx = title_reversed[title]\n",
    "    rec_sim = list(enumerate(tag_sim[idx]))\n",
    "    rec_sort = sorted(rec_sim, key= lambda x: x[1], reverse=True)\n",
    "    top_n = rec_sort[0:20]\n",
    "    rec_indices = [x[0] for x in top_n ]\n",
    "    sim = [round(((x[1])*100), 2) for x in top_n]\n",
    "    rec = pd.Series(list(df['title'].iloc[rec_indices])).to_frame()\n",
    "    country = pd.Series(list(df['country'].iloc[rec_indices])).to_frame()\n",
    "    year = pd.Series(list(df['year'].iloc[rec_indices])).to_frame()\n",
    "    sim_df = pd.Series(sim).to_frame()\n",
    "    data = pd.concat([rec, country, year, sim_df], axis= 1)\n",
    "    data.columns = ['titles', 'country' , 'year' , 'similarity']\n",
    "    return data\n"
   ]
  },
  {
   "cell_type": "code",
   "execution_count": 15,
   "metadata": {},
   "outputs": [
    {
     "data": {
      "text/html": [
       "<div>\n",
       "<style scoped>\n",
       "    .dataframe tbody tr th:only-of-type {\n",
       "        vertical-align: middle;\n",
       "    }\n",
       "\n",
       "    .dataframe tbody tr th {\n",
       "        vertical-align: top;\n",
       "    }\n",
       "\n",
       "    .dataframe thead th {\n",
       "        text-align: right;\n",
       "    }\n",
       "</style>\n",
       "<table border=\"1\" class=\"dataframe\">\n",
       "  <thead>\n",
       "    <tr style=\"text-align: right;\">\n",
       "      <th></th>\n",
       "      <th>titles</th>\n",
       "      <th>country</th>\n",
       "      <th>year</th>\n",
       "      <th>similarity</th>\n",
       "    </tr>\n",
       "  </thead>\n",
       "  <tbody>\n",
       "    <tr>\n",
       "      <th>0</th>\n",
       "      <td>hospital playlist</td>\n",
       "      <td>Korean Drama</td>\n",
       "      <td>2020</td>\n",
       "      <td>100.00</td>\n",
       "    </tr>\n",
       "    <tr>\n",
       "      <th>1</th>\n",
       "      <td>love is back</td>\n",
       "      <td>Chinese Drama</td>\n",
       "      <td>2014</td>\n",
       "      <td>54.77</td>\n",
       "    </tr>\n",
       "    <tr>\n",
       "      <th>2</th>\n",
       "      <td>soulmate</td>\n",
       "      <td>Korean Drama</td>\n",
       "      <td>2006</td>\n",
       "      <td>51.64</td>\n",
       "    </tr>\n",
       "    <tr>\n",
       "      <th>3</th>\n",
       "      <td>the gentlemen of wolgyesu tailor shop</td>\n",
       "      <td>Korean Drama</td>\n",
       "      <td>2016</td>\n",
       "      <td>51.64</td>\n",
       "    </tr>\n",
       "    <tr>\n",
       "      <th>4</th>\n",
       "      <td>flower ever after</td>\n",
       "      <td>Korean Drama</td>\n",
       "      <td>2018</td>\n",
       "      <td>47.81</td>\n",
       "    </tr>\n",
       "    <tr>\n",
       "      <th>5</th>\n",
       "      <td>men with sword</td>\n",
       "      <td>Chinese Drama</td>\n",
       "      <td>2016</td>\n",
       "      <td>47.67</td>\n",
       "    </tr>\n",
       "    <tr>\n",
       "      <th>6</th>\n",
       "      <td>a little mood for love</td>\n",
       "      <td>Chinese Drama</td>\n",
       "      <td>2021</td>\n",
       "      <td>44.72</td>\n",
       "    </tr>\n",
       "    <tr>\n",
       "      <th>7</th>\n",
       "      <td>along with me</td>\n",
       "      <td>Chinese Drama</td>\n",
       "      <td>2023</td>\n",
       "      <td>44.72</td>\n",
       "    </tr>\n",
       "    <tr>\n",
       "      <th>8</th>\n",
       "      <td>why get married</td>\n",
       "      <td>Chinese Drama</td>\n",
       "      <td>2016</td>\n",
       "      <td>42.43</td>\n",
       "    </tr>\n",
       "    <tr>\n",
       "      <th>9</th>\n",
       "      <td>if time flows back</td>\n",
       "      <td>Chinese Drama</td>\n",
       "      <td>2020</td>\n",
       "      <td>42.43</td>\n",
       "    </tr>\n",
       "    <tr>\n",
       "      <th>10</th>\n",
       "      <td>welcome to xiang yan tun</td>\n",
       "      <td>Chinese Drama</td>\n",
       "      <td>2021</td>\n",
       "      <td>42.43</td>\n",
       "    </tr>\n",
       "    <tr>\n",
       "      <th>11</th>\n",
       "      <td>revive</td>\n",
       "      <td>Chinese Drama</td>\n",
       "      <td>2016</td>\n",
       "      <td>42.16</td>\n",
       "    </tr>\n",
       "    <tr>\n",
       "      <th>12</th>\n",
       "      <td>my strange friend season 2</td>\n",
       "      <td>Chinese Drama</td>\n",
       "      <td>2020</td>\n",
       "      <td>42.16</td>\n",
       "    </tr>\n",
       "    <tr>\n",
       "      <th>13</th>\n",
       "      <td>pride</td>\n",
       "      <td>Japanese Drama</td>\n",
       "      <td>2004</td>\n",
       "      <td>40.00</td>\n",
       "    </tr>\n",
       "    <tr>\n",
       "      <th>14</th>\n",
       "      <td>kamen rider ooo</td>\n",
       "      <td>Japanese Drama</td>\n",
       "      <td>2010</td>\n",
       "      <td>40.00</td>\n",
       "    </tr>\n",
       "    <tr>\n",
       "      <th>15</th>\n",
       "      <td>be melodramatic</td>\n",
       "      <td>Korean Drama</td>\n",
       "      <td>2019</td>\n",
       "      <td>40.00</td>\n",
       "    </tr>\n",
       "    <tr>\n",
       "      <th>16</th>\n",
       "      <td>he is psychometric</td>\n",
       "      <td>Korean Drama</td>\n",
       "      <td>2019</td>\n",
       "      <td>40.00</td>\n",
       "    </tr>\n",
       "    <tr>\n",
       "      <th>17</th>\n",
       "      <td>koi no yamai to yarougumi</td>\n",
       "      <td>Japanese Drama</td>\n",
       "      <td>2019</td>\n",
       "      <td>40.00</td>\n",
       "    </tr>\n",
       "    <tr>\n",
       "      <th>18</th>\n",
       "      <td>365: repeat the year</td>\n",
       "      <td>Korean Drama</td>\n",
       "      <td>2020</td>\n",
       "      <td>40.00</td>\n",
       "    </tr>\n",
       "    <tr>\n",
       "      <th>19</th>\n",
       "      <td>graceful friends</td>\n",
       "      <td>Korean Drama</td>\n",
       "      <td>2020</td>\n",
       "      <td>40.00</td>\n",
       "    </tr>\n",
       "  </tbody>\n",
       "</table>\n",
       "</div>"
      ],
      "text/plain": [
       "                                   titles         country  year  similarity\n",
       "0                       hospital playlist    Korean Drama  2020      100.00\n",
       "1                            love is back   Chinese Drama  2014       54.77\n",
       "2                                soulmate    Korean Drama  2006       51.64\n",
       "3   the gentlemen of wolgyesu tailor shop    Korean Drama  2016       51.64\n",
       "4                       flower ever after    Korean Drama  2018       47.81\n",
       "5                          men with sword   Chinese Drama  2016       47.67\n",
       "6                  a little mood for love   Chinese Drama  2021       44.72\n",
       "7                           along with me   Chinese Drama  2023       44.72\n",
       "8                         why get married   Chinese Drama  2016       42.43\n",
       "9                      if time flows back   Chinese Drama  2020       42.43\n",
       "10               welcome to xiang yan tun   Chinese Drama  2021       42.43\n",
       "11                                 revive   Chinese Drama  2016       42.16\n",
       "12             my strange friend season 2   Chinese Drama  2020       42.16\n",
       "13                                  pride  Japanese Drama  2004       40.00\n",
       "14                        kamen rider ooo  Japanese Drama  2010       40.00\n",
       "15                        be melodramatic    Korean Drama  2019       40.00\n",
       "16                     he is psychometric    Korean Drama  2019       40.00\n",
       "17              koi no yamai to yarougumi  Japanese Drama  2019       40.00\n",
       "18                   365: repeat the year    Korean Drama  2020       40.00\n",
       "19                       graceful friends    Korean Drama  2020       40.00"
      ]
     },
     "execution_count": 15,
     "metadata": {},
     "output_type": "execute_result"
    }
   ],
   "source": [
    "get_recommendation_bytags('hospital playlist')"
   ]
  },
  {
   "cell_type": "markdown",
   "metadata": {},
   "source": [
    "##### RECOMMENDATION BY GENRE"
   ]
  },
  {
   "cell_type": "code",
   "execution_count": 16,
   "metadata": {},
   "outputs": [],
   "source": [
    "genre = df['genres']\n",
    "genre = genre.fillna('no genre')\n",
    "genre = genre.str.replace(' ', '')\n",
    "genre = genre.str.lower()\n",
    "genre = genre.str.strip()"
   ]
  },
  {
   "cell_type": "code",
   "execution_count": 17,
   "metadata": {},
   "outputs": [],
   "source": [
    "genre_cv = CountVectorizer()\n",
    "gen_transformed = genre_cv.fit_transform(genre)\n",
    "gen_sim = cosine_similarity(gen_transformed, gen_transformed)"
   ]
  },
  {
   "cell_type": "code",
   "execution_count": 18,
   "metadata": {},
   "outputs": [],
   "source": [
    "def get_recommendation_bygenre(title, gen_sim = gen_sim):\n",
    "    idx = title_reversed[title]\n",
    "    rec_sim = list(enumerate(gen_sim[idx]))\n",
    "    rec_sort = sorted(rec_sim, key= lambda x: x[1], reverse=True)\n",
    "    top_n = rec_sort[0:20]\n",
    "    rec_indices = [x[0] for x in top_n ]\n",
    "    sim = [round(((x[1])*100), 2) for x in top_n]\n",
    "    rec = pd.Series(list(df['title'].iloc[rec_indices])).to_frame()\n",
    "    country = pd.Series(list(df['country'].iloc[rec_indices])).to_frame()\n",
    "    year = pd.Series(list(df['year'].iloc[rec_indices])).to_frame()\n",
    "    sim_df = pd.Series(sim).to_frame()\n",
    "    data = pd.concat([rec, country, year, sim_df], axis= 1)\n",
    "    data.columns = ['titles', 'country' , 'year' , 'similarity(%)']\n",
    "    return data\n"
   ]
  },
  {
   "cell_type": "code",
   "execution_count": null,
   "metadata": {},
   "outputs": [],
   "source": [
    "get_recommendation_bygenre('extracurricular')"
   ]
  },
  {
   "cell_type": "markdown",
   "metadata": {},
   "source": [
    "#### RECOMMENDATION BY CAST"
   ]
  },
  {
   "cell_type": "code",
   "execution_count": 20,
   "metadata": {},
   "outputs": [],
   "source": [
    "cast = df['cast']\n",
    "cast = cast.fillna('no cast')\n",
    "cast = cast.str.replace(' ', '')\n",
    "cast = cast.str.lower()\n",
    "cast = cast.str.strip()"
   ]
  },
  {
   "cell_type": "code",
   "execution_count": 21,
   "metadata": {},
   "outputs": [],
   "source": [
    "cast_cv = CountVectorizer()\n",
    "cast_transformed = cast_cv.fit_transform(cast)\n",
    "cast_sim = cosine_similarity(cast_transformed, cast_transformed)"
   ]
  },
  {
   "cell_type": "code",
   "execution_count": 22,
   "metadata": {},
   "outputs": [],
   "source": [
    "def get_recommendation_bycast(title, cast_sim = cast_sim):\n",
    "    idx = title_reversed[title]\n",
    "    rec_sim = list(enumerate(cast_sim[idx]))\n",
    "    rec_sort = sorted(rec_sim, key= lambda x: x[1], reverse=True)\n",
    "    top_n = rec_sort[0:20]\n",
    "    rec_indices = [x[0] for x in top_n ]\n",
    "    sim = [round(((x[1])*100), 2) for x in top_n]\n",
    "    rec = pd.Series(list(df['title'].iloc[rec_indices])).to_frame()\n",
    "    country = pd.Series(list(df['country'].iloc[rec_indices])).to_frame()\n",
    "    year = pd.Series(list(df['year'].iloc[rec_indices])).to_frame()\n",
    "    sim_df = pd.Series(sim).to_frame()\n",
    "    data = pd.concat([rec, country, year, sim_df], axis= 1)\n",
    "    data.columns = ['titles', 'country' , 'year' , 'similarity']\n",
    "    return data"
   ]
  },
  {
   "cell_type": "code",
   "execution_count": null,
   "metadata": {},
   "outputs": [],
   "source": [
    "get_recommendation_bycast('extracurricular')"
   ]
  },
  {
   "cell_type": "code",
   "execution_count": 24,
   "metadata": {},
   "outputs": [],
   "source": [
    "combined_feature = tags + genre + cast"
   ]
  },
  {
   "cell_type": "code",
   "execution_count": 25,
   "metadata": {},
   "outputs": [],
   "source": [
    "cf_cv = CountVectorizer()\n",
    "cf_transformed = cf_cv.fit_transform(combined_feature)\n",
    "cf_sim = cosine_similarity(cf_transformed, cf_transformed)"
   ]
  },
  {
   "cell_type": "code",
   "execution_count": 53,
   "metadata": {},
   "outputs": [],
   "source": [
    "def get_recommendation_bycf(title, cf_sim = cf_sim):\n",
    "    idx = title_reversed[title]\n",
    "    rec_sim = list(enumerate(cf_sim[idx]))\n",
    "    rec_sort = sorted(rec_sim, key= lambda x: x[1], reverse=True)\n",
    "    top_n = rec_sort[0:20]\n",
    "    rec_indices = [x[0] for x in top_n ]\n",
    "    sim = [round(((x[1])*100), 2) for x in top_n]\n",
    "    rec = pd.Series(list(df['title'].iloc[rec_indices])).to_frame()\n",
    "    country = pd.Series(list(df['country'].iloc[rec_indices])).to_frame()\n",
    "    year = pd.Series(list(df['year'].iloc[rec_indices])).to_frame()\n",
    "    sim_df = pd.Series(sim).to_frame()\n",
    "    data = pd.concat([rec, country, year, sim_df], axis= 1)\n",
    "    data.columns = ['titles', 'country' , 'year' , 'similarity']\n",
    "    return data.to_html()"
   ]
  },
  {
   "cell_type": "code",
   "execution_count": null,
   "metadata": {},
   "outputs": [],
   "source": []
  },
  {
   "cell_type": "code",
   "execution_count": 54,
   "metadata": {},
   "outputs": [
    {
     "data": {
      "text/plain": [
       "'<table border=\"1\" class=\"dataframe\">\\n  <thead>\\n    <tr style=\"text-align: right;\">\\n      <th></th>\\n      <th>titles</th>\\n      <th>country</th>\\n      <th>year</th>\\n      <th>similarity</th>\\n    </tr>\\n  </thead>\\n  <tbody>\\n    <tr>\\n      <th>0</th>\\n      <td>hospital playlist</td>\\n      <td>Korean Drama</td>\\n      <td>2020</td>\\n      <td>100.00</td>\\n    </tr>\\n    <tr>\\n      <th>1</th>\\n      <td>hospital playlist season 2</td>\\n      <td>Korean Drama</td>\\n      <td>2021</td>\\n      <td>61.11</td>\\n    </tr>\\n    <tr>\\n      <th>2</th>\\n      <td>revive</td>\\n      <td>Chinese Drama</td>\\n      <td>2016</td>\\n      <td>29.46</td>\\n    </tr>\\n    <tr>\\n      <th>3</th>\\n      <td>pride</td>\\n      <td>Japanese Drama</td>\\n      <td>2004</td>\\n      <td>28.58</td>\\n    </tr>\\n    <tr>\\n      <th>4</th>\\n      <td>men with sword</td>\\n      <td>Chinese Drama</td>\\n      <td>2016</td>\\n      <td>28.58</td>\\n    </tr>\\n    <tr>\\n      <th>5</th>\\n      <td>graceful friends</td>\\n      <td>Korean Drama</td>\\n      <td>2020</td>\\n      <td>28.58</td>\\n    </tr>\\n    <tr>\\n      <th>6</th>\\n      <td>racket boys</td>\\n      <td>Korean Drama</td>\\n      <td>2021</td>\\n      <td>27.78</td>\\n    </tr>\\n    <tr>\\n      <th>7</th>\\n      <td>run on</td>\\n      <td>Korean Drama</td>\\n      <td>2020</td>\\n      <td>27.04</td>\\n    </tr>\\n    <tr>\\n      <th>8</th>\\n      <td>the gentlemen of wolgyesu tailor shop</td>\\n      <td>Korean Drama</td>\\n      <td>2016</td>\\n      <td>25.20</td>\\n    </tr>\\n    <tr>\\n      <th>9</th>\\n      <td>flower ever after</td>\\n      <td>Korean Drama</td>\\n      <td>2018</td>\\n      <td>25.20</td>\\n    </tr>\\n    <tr>\\n      <th>10</th>\\n      <td>one day off</td>\\n      <td>Korean Drama</td>\\n      <td>2023</td>\\n      <td>23.57</td>\\n    </tr>\\n    <tr>\\n      <th>11</th>\\n      <td>ode to joy season 5</td>\\n      <td>Chinese Drama</td>\\n      <td>2024</td>\\n      <td>23.57</td>\\n    </tr>\\n    <tr>\\n      <th>12</th>\\n      <td>ode to joy</td>\\n      <td>Chinese Drama</td>\\n      <td>2016</td>\\n      <td>22.87</td>\\n    </tr>\\n    <tr>\\n      <th>13</th>\\n      <td>the starry night, the starry sea</td>\\n      <td>Chinese Drama</td>\\n      <td>2017</td>\\n      <td>22.87</td>\\n    </tr>\\n    <tr>\\n      <th>14</th>\\n      <td>nishiogikubo mitsuboshi youshudou</td>\\n      <td>Japanese Drama</td>\\n      <td>2021</td>\\n      <td>22.87</td>\\n    </tr>\\n    <tr>\\n      <th>15</th>\\n      <td>real⇔fake season 2</td>\\n      <td>Japanese Drama</td>\\n      <td>2021</td>\\n      <td>22.87</td>\\n    </tr>\\n    <tr>\\n      <th>16</th>\\n      <td>gentlemen of east 8th</td>\\n      <td>Chinese Drama</td>\\n      <td>2022</td>\\n      <td>22.87</td>\\n    </tr>\\n    <tr>\\n      <th>17</th>\\n      <td>love (ft. marriage and divorce) season 3</td>\\n      <td>Korean Drama</td>\\n      <td>2022</td>\\n      <td>22.87</td>\\n    </tr>\\n    <tr>\\n      <th>18</th>\\n      <td>koi no yamai to yarougumi season 2</td>\\n      <td>Japanese Drama</td>\\n      <td>2022</td>\\n      <td>22.87</td>\\n    </tr>\\n    <tr>\\n      <th>19</th>\\n      <td>reply 1994</td>\\n      <td>Korean Drama</td>\\n      <td>2013</td>\\n      <td>22.22</td>\\n    </tr>\\n  </tbody>\\n</table>'"
      ]
     },
     "execution_count": 54,
     "metadata": {},
     "output_type": "execute_result"
    }
   ],
   "source": [
    "get_recommendation_bycf('hospital playlist')"
   ]
  },
  {
   "cell_type": "markdown",
   "metadata": {},
   "source": []
  },
  {
   "cell_type": "code",
   "execution_count": 69,
   "metadata": {},
   "outputs": [],
   "source": [
    "app_df['country'] = app_df['country'].str.replace('Drama', '').str.strip().str.lower()"
   ]
  },
  {
   "cell_type": "code",
   "execution_count": 56,
   "metadata": {},
   "outputs": [],
   "source": [
    "def get_recommendation_bycf(title, cf_sim = cf_sim):\n",
    "    idx = title_reversed[title]\n",
    "    rec_sim = list(enumerate(cf_sim[idx]))\n",
    "    rec_sort = sorted(rec_sim, key= lambda x: x[1], reverse=True)\n",
    "    top_n = rec_sort[0:20]\n",
    "    rec_indices = [x[0] for x in top_n ]\n",
    "    sim = [round(((x[1])*100), 2) for x in top_n]\n",
    "    rec = pd.Series(list(app_df['title'].iloc[rec_indices])).to_frame()\n",
    "    country = pd.Series(list(app_df['country'].iloc[rec_indices])).to_frame()\n",
    "    year = pd.Series(list(app_df['year'].iloc[rec_indices])).to_frame()\n",
    "    sim_df = pd.Series(sim).to_frame()\n",
    "    data = pd.concat([rec, country, year, sim_df], axis= 1)\n",
    "    data.columns = ['titles', 'country' , 'year' , 'similarity']\n",
    "    return data"
   ]
  },
  {
   "cell_type": "code",
   "execution_count": 61,
   "metadata": {},
   "outputs": [
    {
     "data": {
      "text/html": [
       "<div>\n",
       "<style scoped>\n",
       "    .dataframe tbody tr th:only-of-type {\n",
       "        vertical-align: middle;\n",
       "    }\n",
       "\n",
       "    .dataframe tbody tr th {\n",
       "        vertical-align: top;\n",
       "    }\n",
       "\n",
       "    .dataframe thead th {\n",
       "        text-align: right;\n",
       "    }\n",
       "</style>\n",
       "<table border=\"1\" class=\"dataframe\">\n",
       "  <thead>\n",
       "    <tr style=\"text-align: right;\">\n",
       "      <th></th>\n",
       "      <th>titles</th>\n",
       "      <th>country</th>\n",
       "      <th>year</th>\n",
       "      <th>similarity</th>\n",
       "    </tr>\n",
       "  </thead>\n",
       "  <tbody>\n",
       "    <tr>\n",
       "      <th>0</th>\n",
       "      <td>hellbound</td>\n",
       "      <td>Korean Drama</td>\n",
       "      <td>2021</td>\n",
       "      <td>100.00</td>\n",
       "    </tr>\n",
       "    <tr>\n",
       "      <th>1</th>\n",
       "      <td>blind spot</td>\n",
       "      <td>Chinese Drama</td>\n",
       "      <td>2014</td>\n",
       "      <td>35.53</td>\n",
       "    </tr>\n",
       "    <tr>\n",
       "      <th>2</th>\n",
       "      <td>sweet home</td>\n",
       "      <td>Korean Drama</td>\n",
       "      <td>2020</td>\n",
       "      <td>27.04</td>\n",
       "    </tr>\n",
       "    <tr>\n",
       "      <th>3</th>\n",
       "      <td>mysterious summer</td>\n",
       "      <td>Chinese Drama</td>\n",
       "      <td>2014</td>\n",
       "      <td>25.20</td>\n",
       "    </tr>\n",
       "    <tr>\n",
       "      <th>4</th>\n",
       "      <td>strange school tales</td>\n",
       "      <td>Korean Drama</td>\n",
       "      <td>2020</td>\n",
       "      <td>25.00</td>\n",
       "    </tr>\n",
       "    <tr>\n",
       "      <th>5</th>\n",
       "      <td>higurashi no naku koro ni kai</td>\n",
       "      <td>Japanese Drama</td>\n",
       "      <td>2016</td>\n",
       "      <td>24.34</td>\n",
       "    </tr>\n",
       "    <tr>\n",
       "      <th>6</th>\n",
       "      <td>higurashi no naku koro ni</td>\n",
       "      <td>Japanese Drama</td>\n",
       "      <td>2016</td>\n",
       "      <td>23.57</td>\n",
       "    </tr>\n",
       "    <tr>\n",
       "      <th>7</th>\n",
       "      <td>demon out of chang an</td>\n",
       "      <td>Chinese Drama</td>\n",
       "      <td>2016</td>\n",
       "      <td>23.57</td>\n",
       "    </tr>\n",
       "    <tr>\n",
       "      <th>8</th>\n",
       "      <td>kamen rider amazons</td>\n",
       "      <td>Japanese Drama</td>\n",
       "      <td>2016</td>\n",
       "      <td>22.87</td>\n",
       "    </tr>\n",
       "    <tr>\n",
       "      <th>9</th>\n",
       "      <td>alive</td>\n",
       "      <td>Korean Drama</td>\n",
       "      <td>2019</td>\n",
       "      <td>22.87</td>\n",
       "    </tr>\n",
       "    <tr>\n",
       "      <th>10</th>\n",
       "      <td>mozu season 2: maboroshi no tsubasa</td>\n",
       "      <td>Japanese Drama</td>\n",
       "      <td>2014</td>\n",
       "      <td>22.22</td>\n",
       "    </tr>\n",
       "    <tr>\n",
       "      <th>11</th>\n",
       "      <td>a detective housewife</td>\n",
       "      <td>Chinese Drama</td>\n",
       "      <td>2016</td>\n",
       "      <td>22.22</td>\n",
       "    </tr>\n",
       "    <tr>\n",
       "      <th>12</th>\n",
       "      <td>aishite tatte, himitsu wa aru</td>\n",
       "      <td>Japanese Drama</td>\n",
       "      <td>2017</td>\n",
       "      <td>22.22</td>\n",
       "    </tr>\n",
       "    <tr>\n",
       "      <th>13</th>\n",
       "      <td>watcher</td>\n",
       "      <td>Korean Drama</td>\n",
       "      <td>2019</td>\n",
       "      <td>22.22</td>\n",
       "    </tr>\n",
       "    <tr>\n",
       "      <th>14</th>\n",
       "      <td>zombie detective</td>\n",
       "      <td>Korean Drama</td>\n",
       "      <td>2020</td>\n",
       "      <td>22.22</td>\n",
       "    </tr>\n",
       "    <tr>\n",
       "      <th>15</th>\n",
       "      <td>chip in</td>\n",
       "      <td>Korean Drama</td>\n",
       "      <td>2020</td>\n",
       "      <td>22.22</td>\n",
       "    </tr>\n",
       "    <tr>\n",
       "      <th>16</th>\n",
       "      <td>kimi to sekai ga owaru hi ni season 2</td>\n",
       "      <td>Japanese Drama</td>\n",
       "      <td>2021</td>\n",
       "      <td>22.22</td>\n",
       "    </tr>\n",
       "    <tr>\n",
       "      <th>17</th>\n",
       "      <td>monstrous</td>\n",
       "      <td>Korean Drama</td>\n",
       "      <td>2022</td>\n",
       "      <td>22.22</td>\n",
       "    </tr>\n",
       "    <tr>\n",
       "      <th>18</th>\n",
       "      <td>night has come</td>\n",
       "      <td>Korean Drama</td>\n",
       "      <td>2023</td>\n",
       "      <td>22.22</td>\n",
       "    </tr>\n",
       "    <tr>\n",
       "      <th>19</th>\n",
       "      <td>light shop</td>\n",
       "      <td>Korean Drama</td>\n",
       "      <td>2024</td>\n",
       "      <td>22.22</td>\n",
       "    </tr>\n",
       "  </tbody>\n",
       "</table>\n",
       "</div>"
      ],
      "text/plain": [
       "                                   titles         country  year  similarity\n",
       "0                               hellbound    Korean Drama  2021      100.00\n",
       "1                              blind spot   Chinese Drama  2014       35.53\n",
       "2                              sweet home    Korean Drama  2020       27.04\n",
       "3                       mysterious summer   Chinese Drama  2014       25.20\n",
       "4                    strange school tales    Korean Drama  2020       25.00\n",
       "5           higurashi no naku koro ni kai  Japanese Drama  2016       24.34\n",
       "6               higurashi no naku koro ni  Japanese Drama  2016       23.57\n",
       "7                   demon out of chang an   Chinese Drama  2016       23.57\n",
       "8                     kamen rider amazons  Japanese Drama  2016       22.87\n",
       "9                                   alive    Korean Drama  2019       22.87\n",
       "10    mozu season 2: maboroshi no tsubasa  Japanese Drama  2014       22.22\n",
       "11                  a detective housewife   Chinese Drama  2016       22.22\n",
       "12          aishite tatte, himitsu wa aru  Japanese Drama  2017       22.22\n",
       "13                                watcher    Korean Drama  2019       22.22\n",
       "14                       zombie detective    Korean Drama  2020       22.22\n",
       "15                                chip in    Korean Drama  2020       22.22\n",
       "16  kimi to sekai ga owaru hi ni season 2  Japanese Drama  2021       22.22\n",
       "17                              monstrous    Korean Drama  2022       22.22\n",
       "18                         night has come    Korean Drama  2023       22.22\n",
       "19                             light shop    Korean Drama  2024       22.22"
      ]
     },
     "execution_count": 61,
     "metadata": {},
     "output_type": "execute_result"
    }
   ],
   "source": [
    "get_recommendation_bycf('hellbound')"
   ]
  },
  {
   "cell_type": "code",
   "execution_count": null,
   "metadata": {},
   "outputs": [],
   "source": [
    "import joblib\n",
    "joblib.dump(cf_sim, open('cf_sim.pkl', 'wb'), protocol= 3, compress= 7)\n"
   ]
  },
  {
   "cell_type": "code",
   "execution_count": 70,
   "metadata": {},
   "outputs": [],
   "source": [
    "joblib.dump(app_df, open('app_df.pkl', 'wb'))"
   ]
  },
  {
   "cell_type": "code",
   "execution_count": null,
   "metadata": {},
   "outputs": [],
   "source": [
    "pkl = joblib.load('app_df.pkl')\n",
    "skskk = joblib.load('cf_sim.pkl')"
   ]
  },
  {
   "cell_type": "code",
   "execution_count": 73,
   "metadata": {},
   "outputs": [
    {
     "data": {
      "text/html": [
       "<div>\n",
       "<style scoped>\n",
       "    .dataframe tbody tr th:only-of-type {\n",
       "        vertical-align: middle;\n",
       "    }\n",
       "\n",
       "    .dataframe tbody tr th {\n",
       "        vertical-align: top;\n",
       "    }\n",
       "\n",
       "    .dataframe thead th {\n",
       "        text-align: right;\n",
       "    }\n",
       "</style>\n",
       "<table border=\"1\" class=\"dataframe\">\n",
       "  <thead>\n",
       "    <tr style=\"text-align: right;\">\n",
       "      <th></th>\n",
       "      <th>title</th>\n",
       "      <th>country</th>\n",
       "      <th>year</th>\n",
       "    </tr>\n",
       "  </thead>\n",
       "  <tbody>\n",
       "    <tr>\n",
       "      <th>398</th>\n",
       "      <td>first love</td>\n",
       "      <td>japanese</td>\n",
       "      <td>2002</td>\n",
       "    </tr>\n",
       "    <tr>\n",
       "      <th>561</th>\n",
       "      <td>first love</td>\n",
       "      <td>korean</td>\n",
       "      <td>2003</td>\n",
       "    </tr>\n",
       "    <tr>\n",
       "      <th>2700</th>\n",
       "      <td>first love</td>\n",
       "      <td>chinese</td>\n",
       "      <td>2011</td>\n",
       "    </tr>\n",
       "    <tr>\n",
       "      <th>4851</th>\n",
       "      <td>first love</td>\n",
       "      <td>chinese</td>\n",
       "      <td>2016</td>\n",
       "    </tr>\n",
       "    <tr>\n",
       "      <th>9167</th>\n",
       "      <td>first love</td>\n",
       "      <td>chinese</td>\n",
       "      <td>2022</td>\n",
       "    </tr>\n",
       "    <tr>\n",
       "      <th>9737</th>\n",
       "      <td>first love</td>\n",
       "      <td>chinese</td>\n",
       "      <td>2022</td>\n",
       "    </tr>\n",
       "    <tr>\n",
       "      <th>11979</th>\n",
       "      <td>first love</td>\n",
       "      <td>korean</td>\n",
       "      <td>2024</td>\n",
       "    </tr>\n",
       "  </tbody>\n",
       "</table>\n",
       "</div>"
      ],
      "text/plain": [
       "            title   country  year\n",
       "398    first love  japanese  2002\n",
       "561    first love    korean  2003\n",
       "2700   first love   chinese  2011\n",
       "4851   first love   chinese  2016\n",
       "9167   first love   chinese  2022\n",
       "9737   first love   chinese  2022\n",
       "11979  first love    korean  2024"
      ]
     },
     "execution_count": 73,
     "metadata": {},
     "output_type": "execute_result"
    }
   ],
   "source": [
    "app_df[app_df['title'] == 'first love']"
   ]
  },
  {
   "cell_type": "code",
   "execution_count": null,
   "metadata": {},
   "outputs": [
    {
     "data": {
      "text/plain": [
       "array([[1.        , 0.        , 0.        , ..., 0.        , 0.        ,\n",
       "        0.        ],\n",
       "       [0.        , 1.        , 0.12262787, ..., 0.06681531, 0.        ,\n",
       "        0.        ],\n",
       "       [0.        , 0.12262787, 1.        , ..., 0.11470787, 0.        ,\n",
       "        0.        ],\n",
       "       ...,\n",
       "       [0.        , 0.06681531, 0.11470787, ..., 1.        , 0.125     ,\n",
       "        0.09449112],\n",
       "       [0.        , 0.        , 0.        , ..., 0.125     , 1.        ,\n",
       "        0.18898224],\n",
       "       [0.        , 0.        , 0.        , ..., 0.09449112, 0.18898224,\n",
       "        1.        ]])"
      ]
     },
     "execution_count": 49,
     "metadata": {},
     "output_type": "execute_result"
    }
   ],
   "source": []
  }
 ],
 "metadata": {
  "kernelspec": {
   "display_name": "base",
   "language": "python",
   "name": "python3"
  },
  "language_info": {
   "codemirror_mode": {
    "name": "ipython",
    "version": 3
   },
   "file_extension": ".py",
   "mimetype": "text/x-python",
   "name": "python",
   "nbconvert_exporter": "python",
   "pygments_lexer": "ipython3",
   "version": "3.12.3"
  }
 },
 "nbformat": 4,
 "nbformat_minor": 2
}
